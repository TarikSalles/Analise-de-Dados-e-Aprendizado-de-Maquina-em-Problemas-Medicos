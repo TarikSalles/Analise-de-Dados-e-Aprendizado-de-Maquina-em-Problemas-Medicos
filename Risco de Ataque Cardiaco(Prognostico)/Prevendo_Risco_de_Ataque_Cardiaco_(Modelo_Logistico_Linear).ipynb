{
  "nbformat": 4,
  "nbformat_minor": 0,
  "metadata": {
    "colab": {
      "provenance": []
    },
    "kernelspec": {
      "name": "python3",
      "display_name": "Python 3"
    },
    "language_info": {
      "name": "python"
    }
  },
  "cells": [
    {
      "cell_type": "markdown",
      "source": [
        "#### Origem dos Dados: https://www.kaggle.com/datasets/rashikrahmanpritom/heart-attack-analysis-prediction-dataset"
      ],
      "metadata": {
        "id": "Lpct6rIEfwQV"
      }
    },
    {
      "cell_type": "code",
      "source": [
        "import pandas as pd\n",
        "from sklearn.metrics import mutual_info_score,roc_curve, auc, accuracy_score, precision_score, recall_score, f1_score\n",
        "from sklearn.model_selection import train_test_split\n",
        "from sklearn.linear_model import LogisticRegression\n",
        "from sklearn.preprocessing import StandardScaler\n",
        "from sklearn.model_selection import GridSearchCV\n",
        "import matplotlib.pyplot as plt\n",
        "import seaborn as sns\n"
      ],
      "metadata": {
        "id": "UeqnY1Pbf7d4"
      },
      "execution_count": null,
      "outputs": []
    },
    {
      "cell_type": "code",
      "execution_count": null,
      "metadata": {
        "id": "-BfmYFjtffSP",
        "colab": {
          "base_uri": "https://localhost:8080/"
        },
        "outputId": "ebe758aa-8553-40ab-896f-30d8371b6356"
      },
      "outputs": [
        {
          "output_type": "stream",
          "name": "stdout",
          "text": [
            "Archive:  Dataset.zip\n",
            "  inflating: heart.csv               \n",
            "  inflating: o2Saturation.csv        \n"
          ]
        }
      ],
      "source": [
        "!unzip Dataset.zip"
      ]
    },
    {
      "cell_type": "code",
      "source": [
        "Heart = pd.read_csv('heart.csv')\n"
      ],
      "metadata": {
        "id": "FuTUVbQhf07C"
      },
      "execution_count": null,
      "outputs": []
    },
    {
      "cell_type": "code",
      "source": [
        "Heart.head()"
      ],
      "metadata": {
        "colab": {
          "base_uri": "https://localhost:8080/",
          "height": 206
        },
        "id": "AaTzgE0-f9S3",
        "outputId": "60e867fb-dd29-4261-d539-0f1d89c7e875"
      },
      "execution_count": 20,
      "outputs": [
        {
          "output_type": "execute_result",
          "data": {
            "text/plain": [
              "   age  sex  cp  trtbps  chol  fbs  restecg  thalachh  exng  oldpeak  slp  \\\n",
              "0   63    1   3     145   233    1        0       150     0      2.3    0   \n",
              "1   37    1   2     130   250    0        1       187     0      3.5    0   \n",
              "2   41    0   1     130   204    0        0       172     0      1.4    2   \n",
              "3   56    1   1     120   236    0        1       178     0      0.8    2   \n",
              "4   57    0   0     120   354    0        1       163     1      0.6    2   \n",
              "\n",
              "   caa  thall  output  \n",
              "0    0      1       1  \n",
              "1    0      2       1  \n",
              "2    0      2       1  \n",
              "3    0      2       1  \n",
              "4    0      2       1  "
            ],
            "text/html": [
              "\n",
              "  <div id=\"df-dce085c7-9807-4a0f-8965-f9a34596414e\" class=\"colab-df-container\">\n",
              "    <div>\n",
              "<style scoped>\n",
              "    .dataframe tbody tr th:only-of-type {\n",
              "        vertical-align: middle;\n",
              "    }\n",
              "\n",
              "    .dataframe tbody tr th {\n",
              "        vertical-align: top;\n",
              "    }\n",
              "\n",
              "    .dataframe thead th {\n",
              "        text-align: right;\n",
              "    }\n",
              "</style>\n",
              "<table border=\"1\" class=\"dataframe\">\n",
              "  <thead>\n",
              "    <tr style=\"text-align: right;\">\n",
              "      <th></th>\n",
              "      <th>age</th>\n",
              "      <th>sex</th>\n",
              "      <th>cp</th>\n",
              "      <th>trtbps</th>\n",
              "      <th>chol</th>\n",
              "      <th>fbs</th>\n",
              "      <th>restecg</th>\n",
              "      <th>thalachh</th>\n",
              "      <th>exng</th>\n",
              "      <th>oldpeak</th>\n",
              "      <th>slp</th>\n",
              "      <th>caa</th>\n",
              "      <th>thall</th>\n",
              "      <th>output</th>\n",
              "    </tr>\n",
              "  </thead>\n",
              "  <tbody>\n",
              "    <tr>\n",
              "      <th>0</th>\n",
              "      <td>63</td>\n",
              "      <td>1</td>\n",
              "      <td>3</td>\n",
              "      <td>145</td>\n",
              "      <td>233</td>\n",
              "      <td>1</td>\n",
              "      <td>0</td>\n",
              "      <td>150</td>\n",
              "      <td>0</td>\n",
              "      <td>2.3</td>\n",
              "      <td>0</td>\n",
              "      <td>0</td>\n",
              "      <td>1</td>\n",
              "      <td>1</td>\n",
              "    </tr>\n",
              "    <tr>\n",
              "      <th>1</th>\n",
              "      <td>37</td>\n",
              "      <td>1</td>\n",
              "      <td>2</td>\n",
              "      <td>130</td>\n",
              "      <td>250</td>\n",
              "      <td>0</td>\n",
              "      <td>1</td>\n",
              "      <td>187</td>\n",
              "      <td>0</td>\n",
              "      <td>3.5</td>\n",
              "      <td>0</td>\n",
              "      <td>0</td>\n",
              "      <td>2</td>\n",
              "      <td>1</td>\n",
              "    </tr>\n",
              "    <tr>\n",
              "      <th>2</th>\n",
              "      <td>41</td>\n",
              "      <td>0</td>\n",
              "      <td>1</td>\n",
              "      <td>130</td>\n",
              "      <td>204</td>\n",
              "      <td>0</td>\n",
              "      <td>0</td>\n",
              "      <td>172</td>\n",
              "      <td>0</td>\n",
              "      <td>1.4</td>\n",
              "      <td>2</td>\n",
              "      <td>0</td>\n",
              "      <td>2</td>\n",
              "      <td>1</td>\n",
              "    </tr>\n",
              "    <tr>\n",
              "      <th>3</th>\n",
              "      <td>56</td>\n",
              "      <td>1</td>\n",
              "      <td>1</td>\n",
              "      <td>120</td>\n",
              "      <td>236</td>\n",
              "      <td>0</td>\n",
              "      <td>1</td>\n",
              "      <td>178</td>\n",
              "      <td>0</td>\n",
              "      <td>0.8</td>\n",
              "      <td>2</td>\n",
              "      <td>0</td>\n",
              "      <td>2</td>\n",
              "      <td>1</td>\n",
              "    </tr>\n",
              "    <tr>\n",
              "      <th>4</th>\n",
              "      <td>57</td>\n",
              "      <td>0</td>\n",
              "      <td>0</td>\n",
              "      <td>120</td>\n",
              "      <td>354</td>\n",
              "      <td>0</td>\n",
              "      <td>1</td>\n",
              "      <td>163</td>\n",
              "      <td>1</td>\n",
              "      <td>0.6</td>\n",
              "      <td>2</td>\n",
              "      <td>0</td>\n",
              "      <td>2</td>\n",
              "      <td>1</td>\n",
              "    </tr>\n",
              "  </tbody>\n",
              "</table>\n",
              "</div>\n",
              "    <div class=\"colab-df-buttons\">\n",
              "\n",
              "  <div class=\"colab-df-container\">\n",
              "    <button class=\"colab-df-convert\" onclick=\"convertToInteractive('df-dce085c7-9807-4a0f-8965-f9a34596414e')\"\n",
              "            title=\"Convert this dataframe to an interactive table.\"\n",
              "            style=\"display:none;\">\n",
              "\n",
              "  <svg xmlns=\"http://www.w3.org/2000/svg\" height=\"24px\" viewBox=\"0 -960 960 960\">\n",
              "    <path d=\"M120-120v-720h720v720H120Zm60-500h600v-160H180v160Zm220 220h160v-160H400v160Zm0 220h160v-160H400v160ZM180-400h160v-160H180v160Zm440 0h160v-160H620v160ZM180-180h160v-160H180v160Zm440 0h160v-160H620v160Z\"/>\n",
              "  </svg>\n",
              "    </button>\n",
              "\n",
              "  <style>\n",
              "    .colab-df-container {\n",
              "      display:flex;\n",
              "      gap: 12px;\n",
              "    }\n",
              "\n",
              "    .colab-df-convert {\n",
              "      background-color: #E8F0FE;\n",
              "      border: none;\n",
              "      border-radius: 50%;\n",
              "      cursor: pointer;\n",
              "      display: none;\n",
              "      fill: #1967D2;\n",
              "      height: 32px;\n",
              "      padding: 0 0 0 0;\n",
              "      width: 32px;\n",
              "    }\n",
              "\n",
              "    .colab-df-convert:hover {\n",
              "      background-color: #E2EBFA;\n",
              "      box-shadow: 0px 1px 2px rgba(60, 64, 67, 0.3), 0px 1px 3px 1px rgba(60, 64, 67, 0.15);\n",
              "      fill: #174EA6;\n",
              "    }\n",
              "\n",
              "    .colab-df-buttons div {\n",
              "      margin-bottom: 4px;\n",
              "    }\n",
              "\n",
              "    [theme=dark] .colab-df-convert {\n",
              "      background-color: #3B4455;\n",
              "      fill: #D2E3FC;\n",
              "    }\n",
              "\n",
              "    [theme=dark] .colab-df-convert:hover {\n",
              "      background-color: #434B5C;\n",
              "      box-shadow: 0px 1px 3px 1px rgba(0, 0, 0, 0.15);\n",
              "      filter: drop-shadow(0px 1px 2px rgba(0, 0, 0, 0.3));\n",
              "      fill: #FFFFFF;\n",
              "    }\n",
              "  </style>\n",
              "\n",
              "    <script>\n",
              "      const buttonEl =\n",
              "        document.querySelector('#df-dce085c7-9807-4a0f-8965-f9a34596414e button.colab-df-convert');\n",
              "      buttonEl.style.display =\n",
              "        google.colab.kernel.accessAllowed ? 'block' : 'none';\n",
              "\n",
              "      async function convertToInteractive(key) {\n",
              "        const element = document.querySelector('#df-dce085c7-9807-4a0f-8965-f9a34596414e');\n",
              "        const dataTable =\n",
              "          await google.colab.kernel.invokeFunction('convertToInteractive',\n",
              "                                                    [key], {});\n",
              "        if (!dataTable) return;\n",
              "\n",
              "        const docLinkHtml = 'Like what you see? Visit the ' +\n",
              "          '<a target=\"_blank\" href=https://colab.research.google.com/notebooks/data_table.ipynb>data table notebook</a>'\n",
              "          + ' to learn more about interactive tables.';\n",
              "        element.innerHTML = '';\n",
              "        dataTable['output_type'] = 'display_data';\n",
              "        await google.colab.output.renderOutput(dataTable, element);\n",
              "        const docLink = document.createElement('div');\n",
              "        docLink.innerHTML = docLinkHtml;\n",
              "        element.appendChild(docLink);\n",
              "      }\n",
              "    </script>\n",
              "  </div>\n",
              "\n",
              "\n",
              "<div id=\"df-bb881a2c-4c0a-4544-b5de-5dc9629ba8e3\">\n",
              "  <button class=\"colab-df-quickchart\" onclick=\"quickchart('df-bb881a2c-4c0a-4544-b5de-5dc9629ba8e3')\"\n",
              "            title=\"Suggest charts\"\n",
              "            style=\"display:none;\">\n",
              "\n",
              "<svg xmlns=\"http://www.w3.org/2000/svg\" height=\"24px\"viewBox=\"0 0 24 24\"\n",
              "     width=\"24px\">\n",
              "    <g>\n",
              "        <path d=\"M19 3H5c-1.1 0-2 .9-2 2v14c0 1.1.9 2 2 2h14c1.1 0 2-.9 2-2V5c0-1.1-.9-2-2-2zM9 17H7v-7h2v7zm4 0h-2V7h2v10zm4 0h-2v-4h2v4z\"/>\n",
              "    </g>\n",
              "</svg>\n",
              "  </button>\n",
              "\n",
              "<style>\n",
              "  .colab-df-quickchart {\n",
              "      --bg-color: #E8F0FE;\n",
              "      --fill-color: #1967D2;\n",
              "      --hover-bg-color: #E2EBFA;\n",
              "      --hover-fill-color: #174EA6;\n",
              "      --disabled-fill-color: #AAA;\n",
              "      --disabled-bg-color: #DDD;\n",
              "  }\n",
              "\n",
              "  [theme=dark] .colab-df-quickchart {\n",
              "      --bg-color: #3B4455;\n",
              "      --fill-color: #D2E3FC;\n",
              "      --hover-bg-color: #434B5C;\n",
              "      --hover-fill-color: #FFFFFF;\n",
              "      --disabled-bg-color: #3B4455;\n",
              "      --disabled-fill-color: #666;\n",
              "  }\n",
              "\n",
              "  .colab-df-quickchart {\n",
              "    background-color: var(--bg-color);\n",
              "    border: none;\n",
              "    border-radius: 50%;\n",
              "    cursor: pointer;\n",
              "    display: none;\n",
              "    fill: var(--fill-color);\n",
              "    height: 32px;\n",
              "    padding: 0;\n",
              "    width: 32px;\n",
              "  }\n",
              "\n",
              "  .colab-df-quickchart:hover {\n",
              "    background-color: var(--hover-bg-color);\n",
              "    box-shadow: 0 1px 2px rgba(60, 64, 67, 0.3), 0 1px 3px 1px rgba(60, 64, 67, 0.15);\n",
              "    fill: var(--button-hover-fill-color);\n",
              "  }\n",
              "\n",
              "  .colab-df-quickchart-complete:disabled,\n",
              "  .colab-df-quickchart-complete:disabled:hover {\n",
              "    background-color: var(--disabled-bg-color);\n",
              "    fill: var(--disabled-fill-color);\n",
              "    box-shadow: none;\n",
              "  }\n",
              "\n",
              "  .colab-df-spinner {\n",
              "    border: 2px solid var(--fill-color);\n",
              "    border-color: transparent;\n",
              "    border-bottom-color: var(--fill-color);\n",
              "    animation:\n",
              "      spin 1s steps(1) infinite;\n",
              "  }\n",
              "\n",
              "  @keyframes spin {\n",
              "    0% {\n",
              "      border-color: transparent;\n",
              "      border-bottom-color: var(--fill-color);\n",
              "      border-left-color: var(--fill-color);\n",
              "    }\n",
              "    20% {\n",
              "      border-color: transparent;\n",
              "      border-left-color: var(--fill-color);\n",
              "      border-top-color: var(--fill-color);\n",
              "    }\n",
              "    30% {\n",
              "      border-color: transparent;\n",
              "      border-left-color: var(--fill-color);\n",
              "      border-top-color: var(--fill-color);\n",
              "      border-right-color: var(--fill-color);\n",
              "    }\n",
              "    40% {\n",
              "      border-color: transparent;\n",
              "      border-right-color: var(--fill-color);\n",
              "      border-top-color: var(--fill-color);\n",
              "    }\n",
              "    60% {\n",
              "      border-color: transparent;\n",
              "      border-right-color: var(--fill-color);\n",
              "    }\n",
              "    80% {\n",
              "      border-color: transparent;\n",
              "      border-right-color: var(--fill-color);\n",
              "      border-bottom-color: var(--fill-color);\n",
              "    }\n",
              "    90% {\n",
              "      border-color: transparent;\n",
              "      border-bottom-color: var(--fill-color);\n",
              "    }\n",
              "  }\n",
              "</style>\n",
              "\n",
              "  <script>\n",
              "    async function quickchart(key) {\n",
              "      const quickchartButtonEl =\n",
              "        document.querySelector('#' + key + ' button');\n",
              "      quickchartButtonEl.disabled = true;  // To prevent multiple clicks.\n",
              "      quickchartButtonEl.classList.add('colab-df-spinner');\n",
              "      try {\n",
              "        const charts = await google.colab.kernel.invokeFunction(\n",
              "            'suggestCharts', [key], {});\n",
              "      } catch (error) {\n",
              "        console.error('Error during call to suggestCharts:', error);\n",
              "      }\n",
              "      quickchartButtonEl.classList.remove('colab-df-spinner');\n",
              "      quickchartButtonEl.classList.add('colab-df-quickchart-complete');\n",
              "    }\n",
              "    (() => {\n",
              "      let quickchartButtonEl =\n",
              "        document.querySelector('#df-bb881a2c-4c0a-4544-b5de-5dc9629ba8e3 button');\n",
              "      quickchartButtonEl.style.display =\n",
              "        google.colab.kernel.accessAllowed ? 'block' : 'none';\n",
              "    })();\n",
              "  </script>\n",
              "</div>\n",
              "\n",
              "    </div>\n",
              "  </div>\n"
            ],
            "application/vnd.google.colaboratory.intrinsic+json": {
              "type": "dataframe",
              "variable_name": "Heart",
              "summary": "{\n  \"name\": \"Heart\",\n  \"rows\": 303,\n  \"fields\": [\n    {\n      \"column\": \"age\",\n      \"properties\": {\n        \"dtype\": \"number\",\n        \"std\": 9,\n        \"min\": 29,\n        \"max\": 77,\n        \"num_unique_values\": 41,\n        \"samples\": [\n          46,\n          66,\n          48\n        ],\n        \"semantic_type\": \"\",\n        \"description\": \"\"\n      }\n    },\n    {\n      \"column\": \"sex\",\n      \"properties\": {\n        \"dtype\": \"number\",\n        \"std\": 0,\n        \"min\": 0,\n        \"max\": 1,\n        \"num_unique_values\": 2,\n        \"samples\": [\n          0,\n          1\n        ],\n        \"semantic_type\": \"\",\n        \"description\": \"\"\n      }\n    },\n    {\n      \"column\": \"cp\",\n      \"properties\": {\n        \"dtype\": \"number\",\n        \"std\": 1,\n        \"min\": 0,\n        \"max\": 3,\n        \"num_unique_values\": 4,\n        \"samples\": [\n          2,\n          0\n        ],\n        \"semantic_type\": \"\",\n        \"description\": \"\"\n      }\n    },\n    {\n      \"column\": \"trtbps\",\n      \"properties\": {\n        \"dtype\": \"number\",\n        \"std\": 17,\n        \"min\": 94,\n        \"max\": 200,\n        \"num_unique_values\": 49,\n        \"samples\": [\n          104,\n          123\n        ],\n        \"semantic_type\": \"\",\n        \"description\": \"\"\n      }\n    },\n    {\n      \"column\": \"chol\",\n      \"properties\": {\n        \"dtype\": \"number\",\n        \"std\": 51,\n        \"min\": 126,\n        \"max\": 564,\n        \"num_unique_values\": 152,\n        \"samples\": [\n          277,\n          169\n        ],\n        \"semantic_type\": \"\",\n        \"description\": \"\"\n      }\n    },\n    {\n      \"column\": \"fbs\",\n      \"properties\": {\n        \"dtype\": \"number\",\n        \"std\": 0,\n        \"min\": 0,\n        \"max\": 1,\n        \"num_unique_values\": 2,\n        \"samples\": [\n          0,\n          1\n        ],\n        \"semantic_type\": \"\",\n        \"description\": \"\"\n      }\n    },\n    {\n      \"column\": \"restecg\",\n      \"properties\": {\n        \"dtype\": \"number\",\n        \"std\": 0,\n        \"min\": 0,\n        \"max\": 2,\n        \"num_unique_values\": 3,\n        \"samples\": [\n          0,\n          1\n        ],\n        \"semantic_type\": \"\",\n        \"description\": \"\"\n      }\n    },\n    {\n      \"column\": \"thalachh\",\n      \"properties\": {\n        \"dtype\": \"number\",\n        \"std\": 22,\n        \"min\": 71,\n        \"max\": 202,\n        \"num_unique_values\": 91,\n        \"samples\": [\n          159,\n          152\n        ],\n        \"semantic_type\": \"\",\n        \"description\": \"\"\n      }\n    },\n    {\n      \"column\": \"exng\",\n      \"properties\": {\n        \"dtype\": \"number\",\n        \"std\": 0,\n        \"min\": 0,\n        \"max\": 1,\n        \"num_unique_values\": 2,\n        \"samples\": [\n          1,\n          0\n        ],\n        \"semantic_type\": \"\",\n        \"description\": \"\"\n      }\n    },\n    {\n      \"column\": \"oldpeak\",\n      \"properties\": {\n        \"dtype\": \"number\",\n        \"std\": 1.1610750220686348,\n        \"min\": 0.0,\n        \"max\": 6.2,\n        \"num_unique_values\": 40,\n        \"samples\": [\n          1.9,\n          3.0\n        ],\n        \"semantic_type\": \"\",\n        \"description\": \"\"\n      }\n    },\n    {\n      \"column\": \"slp\",\n      \"properties\": {\n        \"dtype\": \"number\",\n        \"std\": 0,\n        \"min\": 0,\n        \"max\": 2,\n        \"num_unique_values\": 3,\n        \"samples\": [\n          0,\n          2\n        ],\n        \"semantic_type\": \"\",\n        \"description\": \"\"\n      }\n    },\n    {\n      \"column\": \"caa\",\n      \"properties\": {\n        \"dtype\": \"number\",\n        \"std\": 1,\n        \"min\": 0,\n        \"max\": 4,\n        \"num_unique_values\": 5,\n        \"samples\": [\n          2,\n          4\n        ],\n        \"semantic_type\": \"\",\n        \"description\": \"\"\n      }\n    },\n    {\n      \"column\": \"thall\",\n      \"properties\": {\n        \"dtype\": \"number\",\n        \"std\": 0,\n        \"min\": 0,\n        \"max\": 3,\n        \"num_unique_values\": 4,\n        \"samples\": [\n          2,\n          0\n        ],\n        \"semantic_type\": \"\",\n        \"description\": \"\"\n      }\n    },\n    {\n      \"column\": \"output\",\n      \"properties\": {\n        \"dtype\": \"number\",\n        \"std\": 0,\n        \"min\": 0,\n        \"max\": 1,\n        \"num_unique_values\": 2,\n        \"samples\": [\n          0,\n          1\n        ],\n        \"semantic_type\": \"\",\n        \"description\": \"\"\n      }\n    }\n  ]\n}"
            }
          },
          "metadata": {},
          "execution_count": 20
        }
      ]
    },
    {
      "cell_type": "code",
      "source": [
        "correlation_matrix = Heart.corr()\n",
        "correlation_with_output = correlation_matrix['output'].sort_values(ascending=False)\n",
        "\n",
        "print(correlation_with_output)\n"
      ],
      "metadata": {
        "colab": {
          "base_uri": "https://localhost:8080/"
        },
        "id": "4ZMTYX3Gf_9W",
        "outputId": "ff9d691e-6563-47fe-9a62-62843b3db858"
      },
      "execution_count": null,
      "outputs": [
        {
          "output_type": "stream",
          "name": "stdout",
          "text": [
            "output      1.000000\n",
            "cp          0.433798\n",
            "thalachh    0.421741\n",
            "slp         0.345877\n",
            "restecg     0.137230\n",
            "fbs        -0.028046\n",
            "chol       -0.085239\n",
            "trtbps     -0.144931\n",
            "age        -0.225439\n",
            "sex        -0.280937\n",
            "thall      -0.344029\n",
            "caa        -0.391724\n",
            "oldpeak    -0.430696\n",
            "exng       -0.436757\n",
            "Name: output, dtype: float64\n"
          ]
        }
      ]
    },
    {
      "cell_type": "code",
      "source": [
        "mutual_info_scores = {}\n",
        "for column in Heart.columns:\n",
        "  if column != 'output':\n",
        "    mutual_info_scores[column] = mutual_info_score(Heart['output'], Heart[column])\n",
        "\n",
        "print(\"Mutual Information Scores:\")\n",
        "for column, score in mutual_info_scores.items():\n",
        "  print(f\"{column}: {score}\")\n"
      ],
      "metadata": {
        "colab": {
          "base_uri": "https://localhost:8080/"
        },
        "id": "UGcJd7wygLs4",
        "outputId": "3a1ee35d-3f6a-40db-e3d1-5059195bc969"
      },
      "execution_count": null,
      "outputs": [
        {
          "output_type": "stream",
          "name": "stdout",
          "text": [
            "Mutual Information Scores:\n",
            "age: 0.09378647273031647\n",
            "sex: 0.04099155186447881\n",
            "cp: 0.14181711991875448\n",
            "trtbps: 0.09733730013642071\n",
            "chol: 0.3879797954670116\n",
            "fbs: 0.0003922398104876379\n",
            "restecg: 0.0166874048825605\n",
            "thalachh: 0.2322723359455063\n",
            "exng: 0.09857280295977083\n",
            "oldpeak: 0.17563546295064109\n",
            "slp: 0.08098301623981687\n",
            "caa: 0.12889578371853533\n",
            "thall: 0.14781412287066148\n"
          ]
        },
        {
          "output_type": "stream",
          "name": "stderr",
          "text": [
            "/usr/local/lib/python3.10/dist-packages/sklearn/metrics/cluster/_supervised.py:66: UserWarning: Clustering metrics expects discrete values but received binary values for label, and continuous values for target\n",
            "  warnings.warn(msg, UserWarning)\n"
          ]
        }
      ]
    },
    {
      "cell_type": "markdown",
      "source": [
        "#### Note que sexo e idade tem um baixo score de informação mutua em relação à output, indicando que os ataques cardíacos podem não ter uma relação direta com idade e sexo."
      ],
      "metadata": {
        "id": "ktT1pkHLi0L-"
      }
    },
    {
      "cell_type": "code",
      "source": [
        "combined_scores = {}\n",
        "for column in Heart.columns:\n",
        "  if column != 'output':\n",
        "    correlation = correlation_matrix['output'][column]\n",
        "    mutual_info = mutual_info_scores.get(column, 0)\n",
        "    combined_scores[column] = (abs(correlation) + mutual_info)\n",
        "\n",
        "\n",
        "sorted_combined_scores = dict(sorted(combined_scores.items(), key=lambda item: item[1], reverse=True))\n",
        "\n",
        "top_5_variables = list(sorted_combined_scores.keys())[:5]\n",
        "\n",
        "print(\"Top 5 mais relacionadas com ataques cardiacos\")\n",
        "print(top_5_variables)\n"
      ],
      "metadata": {
        "colab": {
          "base_uri": "https://localhost:8080/"
        },
        "id": "nWgg2IgJgmel",
        "outputId": "0cd7df73-096c-4b54-e254-609a0e673f6a"
      },
      "execution_count": null,
      "outputs": [
        {
          "output_type": "stream",
          "name": "stdout",
          "text": [
            "Top 5 mais relacionadas com ataques cardiacos\n",
            "['thalachh', 'oldpeak', 'cp', 'exng', 'caa']\n"
          ]
        }
      ]
    },
    {
      "cell_type": "markdown",
      "source": [
        "#### Correlação de Pearson :\n",
        "\n",
        "1: Correlação linear positiva perfeita. </br>\n",
        "-1: Correlação linear negativa perfeita. </br>\n",
        "0: Nenhuma correlação linear."
      ],
      "metadata": {
        "id": "Zt7LNnMt1Hqp"
      }
    },
    {
      "cell_type": "code",
      "source": [
        "from itertools import combinations\n",
        "from scipy.stats import pearsonr\n",
        "\n",
        "highest_correlation = 0\n",
        "best_pair = None\n",
        "corr_dict = {}\n",
        "\n",
        "# Iterando sobre todas as combinações de 2 variáveis em top_5_variables\n",
        "for pair in combinations(top_5_variables, 2):\n",
        "    var1, var2 = pair\n",
        "\n",
        "    # Calculando a correlação de Pearson entre var1 e var2\n",
        "    correlation, _ = pearsonr(Heart[var1], Heart[var2])\n",
        "\n",
        "    corr_dict[f\"{var1} x {var2}\"] = correlation\n",
        "\n",
        "    if abs(correlation) > abs(highest_correlation):\n",
        "        highest_correlation = correlation\n",
        "        best_pair = pair\n",
        "\n",
        "sorted_corr_dict = sorted(corr_dict.items(), key=lambda item: abs(item[1]), reverse=True)\n",
        "\n",
        "print(\"Pares de variáveis e suas correlações em ordem de magnitude:\")\n",
        "for pair, score in sorted_corr_dict:\n",
        "    print(f\"{pair}: {score}\")\n",
        "\n",
        "print(f\"\\nO par de variáveis com maior correlação de Pearson é: {best_pair} com uma correlação de {highest_correlation}\")\n"
      ],
      "metadata": {
        "colab": {
          "base_uri": "https://localhost:8080/"
        },
        "id": "0O1D52bDzmWF",
        "outputId": "a3084599-fcf7-42fb-87dd-abc33dd11fd7"
      },
      "execution_count": 34,
      "outputs": [
        {
          "output_type": "stream",
          "name": "stdout",
          "text": [
            "Pares de variáveis e suas correlações em ordem de magnitude:\n",
            "cp x exng: -0.3942802684950219\n",
            "thalachh x exng: -0.37881209385148684\n",
            "thalachh x oldpeak: -0.3441869479667158\n",
            "thalachh x cp: 0.2957621245879106\n",
            "oldpeak x exng: 0.2882228077827654\n",
            "oldpeak x caa: 0.2226823218278237\n",
            "thalachh x caa: -0.21317692811538988\n",
            "cp x caa: -0.18105302605349524\n",
            "oldpeak x cp: -0.14923015809708082\n",
            "exng x caa: 0.11573937807050619\n",
            "\n",
            "O par de variáveis com maior correlação de Pearson é: ('cp', 'exng') com uma correlação de -0.3942802684950219\n"
          ]
        }
      ]
    },
    {
      "cell_type": "markdown",
      "source": [
        "#### Vamos escolher as 5 com maior magnitude, isso pode ajudar ainda mais o modelo a aprender com combinações relevantes. Por exemplo, agora sabemos que o tipo de dor de peito e angina atrelada à exercícios estão negativamente correlacionadas."
      ],
      "metadata": {
        "id": "uetHMtN62JHx"
      }
    },
    {
      "cell_type": "markdown",
      "source": [
        "*   thalachh: Frequência cardíaca máxima alcançada\n",
        "*   oldpeak:  Indicador importante na avaliação da presença de isquemia miocárdica, que é a redução do fluxo sanguíneo para o coração.\n",
        "*   cp: Tipo de dor no peito\n",
        "*   exng: Angina induzida por exercício\n",
        "*   caa: Número de artérias coronárias maiores afetadas por doenças\n",
        "\n",
        "\n",
        "\n",
        "\n"
      ],
      "metadata": {
        "id": "pGIUrNpIjDuT"
      }
    },
    {
      "cell_type": "code",
      "source": [
        "X = Heart[top_5_variables]\n",
        "y = Heart['output']\n",
        "\n",
        "Heart['cp_x_exng'] = Heart['cp'] * Heart['exng']\n",
        "Heart['thalachh_x_exng'] = Heart['thalachh'] * Heart['exng']\n",
        "Heart['thalachh_x_oldpeak'] = Heart['thalachh'] * Heart['oldpeak']\n",
        "Heart['thalachh_x_cp'] = Heart['thalachh'] * Heart['cp']\n",
        "Heart['oldpeak_x_exng'] = Heart['oldpeak'] * Heart['exng']\n",
        "\n",
        "X = pd.concat([X, Heart[['cp_x_exng', 'thalachh_x_exng', 'thalachh_x_oldpeak',\n",
        "                          'thalachh_x_cp', 'oldpeak_x_exng']]], axis=1)\n",
        "\n",
        "\n",
        "X_train, X_test, y_train, y_test = train_test_split(X, y, test_size=0.2, random_state=42)\n",
        "\n",
        "scaler = StandardScaler() #Normalização é importante, dados muito dispersos!\n",
        "X_train = scaler.fit_transform(X_train)\n",
        "X_test = scaler.transform(X_test)\n",
        "\n",
        "model = LogisticRegression()\n",
        "model.fit(X_train, y_train)\n",
        "\n",
        "y_pred_proba = model.predict_proba(X_test)[:, 1]\n",
        "\n",
        "print(\"Probabilidades de Ataque Cardíaco para os dados de teste:\")\n",
        "print(y_pred_proba)\n",
        "\n"
      ],
      "metadata": {
        "colab": {
          "base_uri": "https://localhost:8080/"
        },
        "id": "Y8EgdfughZE4",
        "outputId": "e2e8394f-df42-4686-993e-713eed4adc2c"
      },
      "execution_count": 35,
      "outputs": [
        {
          "output_type": "stream",
          "name": "stdout",
          "text": [
            "Probabilidades de Ataque Cardíaco para os dados de teste:\n",
            "[1.08483525e-01 9.48257393e-01 8.62529210e-01 8.63929124e-03\n",
            " 7.71025066e-01 8.29504833e-01 4.81993568e-01 2.67526389e-04\n",
            " 9.22831673e-04 7.77811512e-01 7.30582810e-01 4.52543074e-01\n",
            " 8.79724608e-01 2.79113083e-02 8.94520345e-01 9.46739540e-01\n",
            " 8.68513234e-01 3.13111736e-01 8.69484110e-03 1.07684287e-03\n",
            " 9.26743615e-01 4.85453245e-02 4.61819782e-01 5.41950232e-01\n",
            " 7.92926827e-01 8.37416537e-01 9.10829060e-01 5.48643162e-01\n",
            " 1.23977128e-01 8.02094441e-01 1.78793171e-01 1.73541416e-02\n",
            " 7.79305223e-03 6.55798362e-03 5.94549720e-01 3.81307080e-01\n",
            " 7.05250670e-01 7.77790730e-01 9.29071793e-01 8.43263150e-01\n",
            " 4.03699362e-01 8.28011661e-01 8.42469487e-01 7.67617040e-01\n",
            " 8.95872072e-01 3.30299126e-02 1.55620444e-01 9.09756367e-01\n",
            " 1.95442085e-03 9.95261054e-02 1.64768634e-01 8.20780523e-02\n",
            " 8.26562101e-01 8.52170174e-01 4.98697310e-01 4.49444067e-03\n",
            " 1.91729905e-01 9.29115461e-01 6.32856281e-02 1.92490679e-03\n",
            " 3.32660682e-01]\n"
          ]
        }
      ]
    },
    {
      "cell_type": "code",
      "source": [
        "y_train_0_percentage = (y_train == 0).sum() / len(y_train) * 100\n",
        "y_train_1_percentage = (y_train == 1).sum() / len(y_train) * 100\n",
        "\n",
        "print(f\"Porcentagem de 0 (sem ataque cardíaco) no treino: {y_train_0_percentage:.2f}%\")\n",
        "print(f\"Porcentagem de 1 (ataque cardíaco) no treino: {y_train_1_percentage:.2f}%\")"
      ],
      "metadata": {
        "colab": {
          "base_uri": "https://localhost:8080/"
        },
        "id": "oKiSEPMDkV2-",
        "outputId": "75ff5f54-e5dd-40ed-8c49-71220809c6f0"
      },
      "execution_count": 36,
      "outputs": [
        {
          "output_type": "stream",
          "name": "stdout",
          "text": [
            "Porcentagem de 0 (sem ataque cardíaco) no treino: 45.04%\n",
            "Porcentagem de 1 (ataque cardíaco) no treino: 54.96%\n"
          ]
        }
      ]
    },
    {
      "cell_type": "code",
      "source": [
        "y_test_0_percentage = (y_test == 0).sum() / len(y_test) * 100\n",
        "y_test_1_percentage = (y_test == 1).sum() / len(y_test) * 100\n",
        "\n",
        "print(f\"Porcentagem de 0 (sem ataque cardíaco) no teste: {y_test_0_percentage:.2f}%\")\n",
        "print(f\"Porcentagem de 1 (ataque cardíaco) no teste: {y_test_1_percentage:.2f}%\")"
      ],
      "metadata": {
        "colab": {
          "base_uri": "https://localhost:8080/"
        },
        "id": "uvrGX6vrkWzQ",
        "outputId": "bdeb38d1-b47e-46ac-c2bd-568da15728d6"
      },
      "execution_count": 37,
      "outputs": [
        {
          "output_type": "stream",
          "name": "stdout",
          "text": [
            "Porcentagem de 0 (sem ataque cardíaco) no teste: 47.54%\n",
            "Porcentagem de 1 (ataque cardíaco) no teste: 52.46%\n"
          ]
        }
      ]
    },
    {
      "cell_type": "markdown",
      "source": [
        "#### Está praticamente balanceado em treino e teste"
      ],
      "metadata": {
        "id": "VWlgw5j-kcy_"
      }
    },
    {
      "cell_type": "code",
      "source": [
        "\n",
        "# Calcular a curva ROC\n",
        "fpr, tpr, thresholds = roc_curve(y_test, y_pred_proba)\n",
        "roc_auc = auc(fpr, tpr)\n",
        "\n",
        "# Encontrar o melhor threshold usando Youden's J statistic\n",
        "\n",
        "#J=Sensibilidade+Especificidade−1\n",
        "\n",
        "j_statistic = tpr - fpr\n",
        "best_threshold_index = j_statistic.argmax()\n",
        "best_threshold = thresholds[best_threshold_index]\n",
        "\n",
        "print(f\"Melhor Threshold: {best_threshold}\")\n",
        "\n"
      ],
      "metadata": {
        "colab": {
          "base_uri": "https://localhost:8080/"
        },
        "id": "vP_-mwXgh_f-",
        "outputId": "42c5b704-9bbb-49fd-bd5b-45ebce230d9e"
      },
      "execution_count": 38,
      "outputs": [
        {
          "output_type": "stream",
          "name": "stdout",
          "text": [
            "Melhor Threshold: 0.4036993622827729\n"
          ]
        }
      ]
    },
    {
      "cell_type": "code",
      "source": [
        "print(\"Ataque Cardíaco para os dados de teste:\")\n",
        "print(y_pred_proba > best_threshold)\n"
      ],
      "metadata": {
        "colab": {
          "base_uri": "https://localhost:8080/"
        },
        "id": "Xrax07_piJrN",
        "outputId": "ba7c1048-6f29-41da-d7d6-78d3909fb45c"
      },
      "execution_count": 39,
      "outputs": [
        {
          "output_type": "stream",
          "name": "stdout",
          "text": [
            "Ataque Cardíaco para os dados de teste:\n",
            "[False  True  True False  True  True  True False False  True  True  True\n",
            "  True False  True  True  True False False False  True False  True  True\n",
            "  True  True  True  True False  True False False False False  True False\n",
            "  True  True  True  True False  True  True  True  True False False  True\n",
            " False False False False  True  True  True False False  True False False\n",
            " False]\n"
          ]
        }
      ]
    },
    {
      "cell_type": "code",
      "source": [
        "from sklearn.metrics import confusion_matrix\n",
        "\n",
        "y_pred = (y_pred_proba > best_threshold).astype(int)\n",
        "\n",
        "cm = confusion_matrix(y_test, y_pred)\n",
        "\n",
        "print(\"Matriz de Confusão:\")\n",
        "print(cm)\n"
      ],
      "metadata": {
        "colab": {
          "base_uri": "https://localhost:8080/"
        },
        "id": "mYil6PaAiSz5",
        "outputId": "fe039b01-906e-4224-e1cd-2609fa193950"
      },
      "execution_count": 40,
      "outputs": [
        {
          "output_type": "stream",
          "name": "stdout",
          "text": [
            "Matriz de Confusão:\n",
            "[[24  5]\n",
            " [ 3 29]]\n"
          ]
        }
      ]
    },
    {
      "cell_type": "code",
      "source": [
        "plt.figure(figsize=(8, 6))\n",
        "sns.heatmap(cm, annot=True, fmt='d', cmap='Blues', cbar=False,\n",
        "            xticklabels=['Ataque Cardíaco', 'Sem Ataque Cardíaco'],\n",
        "            yticklabels=['Ataque Cardíaco', 'Sem Ataque Cardíaco'])\n",
        "plt.xlabel('Predição')\n",
        "plt.ylabel('Valor Real')\n",
        "plt.title('Matriz de Confusão')\n",
        "plt.show()\n"
      ],
      "metadata": {
        "colab": {
          "base_uri": "https://localhost:8080/",
          "height": 565
        },
        "id": "MF2QCCWtiZQj",
        "outputId": "d4a3af35-8e2a-4d69-b662-daca0da5345d"
      },
      "execution_count": 54,
      "outputs": [
        {
          "output_type": "display_data",
          "data": {
            "text/plain": [
              "<Figure size 800x600 with 1 Axes>"
            ],
            "image/png": "[encoded data removed]"
          },
          "metadata": {}
        }
      ]
    },
    {
      "cell_type": "code",
      "source": [
        "accuracy = accuracy_score(y_test, y_pred)\n",
        "precision = precision_score(y_test, y_pred)\n",
        "recall = recall_score(y_test, y_pred)\n",
        "f1 = 2 * (precision * recall) / (precision + recall)\n",
        "\n",
        "print(f\"Acurácia: {accuracy:.2f}\")\n",
        "print(f\"Precisão: {precision:.2f}\")\n",
        "print(f\"Recall: {recall:.2f}\")\n",
        "print(f\"F1-Score: {f1:.2f}\")\n"
      ],
      "metadata": {
        "colab": {
          "base_uri": "https://localhost:8080/"
        },
        "id": "o7fuCKDTj86I",
        "outputId": "63fd83de-c109-47e3-a571-24091d47f6ae"
      },
      "execution_count": 42,
      "outputs": [
        {
          "output_type": "stream",
          "name": "stdout",
          "text": [
            "Acurácia: 0.87\n",
            "Precisão: 0.85\n",
            "Recall: 0.91\n",
            "F1-Score: 0.88\n"
          ]
        }
      ]
    },
    {
      "cell_type": "code",
      "source": [
        "ROC_Final = roc_curve(y_test, y_pred_proba)\n",
        "fpr,tpr,_ = ROC_Final\n",
        "plt.figure()\n",
        "lw = 2\n",
        "plt.plot(fpr, tpr, color='darkorange',\n",
        "         lw=lw, label='Curva ROC (area = %0.2f)' % roc_auc)\n",
        "plt.plot([0, 1], [0, 1], color='navy', lw=lw, linestyle='--')\n",
        "plt.xlim([0.0, 1.0])\n",
        "plt.ylim([0.0, 1.05])\n",
        "plt.xlabel('Taxa de Falsos Positivos')\n",
        "plt.ylabel('Taxa de Verdadeiros Positivos')\n",
        "plt.title('Curva ROC para Ataques Cardíacos')\n",
        "plt.legend(loc=\"lower right\")\n",
        "plt.show()\n"
      ],
      "metadata": {
        "colab": {
          "base_uri": "https://localhost:8080/",
          "height": 472
        },
        "id": "uBO-FsRgksK0",
        "outputId": "3d2d50b3-1cde-4e09-e8aa-1b8f53bf0771"
      },
      "execution_count": 43,
      "outputs": [
        {
          "output_type": "display_data",
          "data": {
            "text/plain": [
              "<Figure size 640x480 with 1 Axes>"
            ],
            "image/png": "[encoded data removed]"
          },
          "metadata": {}
        }
      ]
    },
    {
      "cell_type": "markdown",
      "source": [
        "#### Fizemos uma boa escolha com o número de variáveis (5)? Vamos tentar achar o melhor valor para treinar o modelo com base no fscore (com base em qual tem mais relação com output).\n",
        "#### Lembrando que o fscore é uma excelente métrica para se basear dado que é uma média harmônica entre acurácia e recall, duas métricas que avaliam o modelo em geral."
      ],
      "metadata": {
        "id": "a5oQOLwAmdmr"
      }
    },
    {
      "cell_type": "code",
      "source": [
        "best_f1_score = 0\n",
        "best_num_variables = 0\n",
        "best_model = None\n",
        "best_threshold_all = 0\n",
        "print(\"-------------------------------------------------\")\n",
        "\n",
        "for num_variables in range(1, len(sorted_combined_scores) + 1):\n",
        "    top_variables = list(sorted_combined_scores.keys())[:num_variables]\n",
        "    X = Heart[top_variables]\n",
        "    y = Heart['output']\n",
        "    Heart['cp_x_exng'] = Heart['cp'] * Heart['exng']\n",
        "    Heart['thalachh_x_exng'] = Heart['thalachh'] * Heart['exng']\n",
        "    Heart['thalachh_x_oldpeak'] = Heart['thalachh'] * Heart['oldpeak']\n",
        "    Heart['thalachh_x_cp'] = Heart['thalachh'] * Heart['cp']\n",
        "    Heart['oldpeak_x_exng'] = Heart['oldpeak'] * Heart['exng']\n",
        "\n",
        "    X = pd.concat([X, Heart[['cp_x_exng', 'thalachh_x_exng', 'thalachh_x_oldpeak',\n",
        "                              'thalachh_x_cp', 'oldpeak_x_exng']]], axis=1)\n",
        "\n",
        "    X_train, X_test, y_train, y_test = train_test_split(X, y, test_size=0.2, random_state=42)\n",
        "\n",
        "    scaler = StandardScaler()\n",
        "    X_train = scaler.fit_transform(X_train)\n",
        "    X_test = scaler.transform(X_test)\n",
        "\n",
        "    model = LogisticRegression()\n",
        "    model.fit(X_train, y_train)\n",
        "\n",
        "    y_pred_proba = model.predict_proba(X_test)[:, 1]\n",
        "\n",
        "    fpr, tpr, thresholds = roc_curve(y_test, y_pred_proba)\n",
        "    roc_auc = auc(fpr, tpr)\n",
        "\n",
        "    j_statistic = tpr - fpr\n",
        "    best_threshold_index = j_statistic.argmax()\n",
        "    best_threshold = thresholds[best_threshold_index]\n",
        "    y_pred = (y_pred_proba > best_threshold).astype(int)\n",
        "\n",
        "    current_f1_score = f1_score(y_test, y_pred)\n",
        "\n",
        "    if current_f1_score > best_f1_score:\n",
        "        best_threshold_all = best_threshold\n",
        "        best_model = model\n",
        "        best_f1_score = current_f1_score\n",
        "        best_num_variables = num_variables\n",
        "    print(f\"F1-score para {' ' * (2 - len(str(num_variables)))}{num_variables} variáveis: {current_f1_score:.4f}\")\n",
        "\n",
        "print(\"-------------------------------------------------\")\n",
        "\n",
        "print(f\"Melhor número de variáveis: {best_num_variables}\")\n",
        "print(f\"Melhor F1-score: %.4f\"%best_f1_score)\n",
        "print(f\"Melhor threshold: %.4f\"%best_threshold_all)\n",
        "print(f\"Variáveis: {list(sorted_combined_scores.keys())[:best_num_variables]}\")\n"
      ],
      "metadata": {
        "colab": {
          "base_uri": "https://localhost:8080/"
        },
        "id": "N7_6pUThmWmq",
        "outputId": "e82c0b99-a40d-4467-e06c-338f77a6e137"
      },
      "execution_count": 59,
      "outputs": [
        {
          "output_type": "stream",
          "name": "stdout",
          "text": [
            "-------------------------------------------------\n",
            "F1-score para  1 variáveis: 0.8438\n",
            "F1-score para  2 variáveis: 0.8197\n",
            "F1-score para  3 variáveis: 0.8197\n",
            "F1-score para  4 variáveis: 0.8197\n",
            "F1-score para  5 variáveis: 0.8788\n",
            "F1-score para  6 variáveis: 0.8571\n",
            "F1-score para  7 variáveis: 0.8571\n",
            "F1-score para  8 variáveis: 0.8571\n",
            "F1-score para  9 variáveis: 0.8889\n",
            "F1-score para 10 variáveis: 0.8889\n",
            "F1-score para 11 variáveis: 0.8710\n",
            "F1-score para 12 variáveis: 0.8750\n",
            "F1-score para 13 variáveis: 0.8750\n",
            "-------------------------------------------------\n",
            "Melhor número de variáveis: 9\n",
            "Melhor F1-score: 0.8889\n",
            "Melhor threshold: 0.4097\n",
            "Variáveis: ['thalachh', 'oldpeak', 'cp', 'exng', 'caa', 'thall', 'chol', 'slp', 'sex']\n"
          ]
        }
      ]
    },
    {
      "cell_type": "markdown",
      "source": [
        "#### Com  9 variáveis o resultado é ligeiramente melhor. Sendo elas:\n",
        "\n",
        "- thalachh\n",
        "- oldpeak\n",
        "- cp\n",
        "- exng\n",
        "- caa\n",
        "- thall\n",
        "- chol\n",
        "- slp\n",
        "- sex\n"
      ],
      "metadata": {
        "id": "rkICVLJLnGco"
      }
    },
    {
      "cell_type": "markdown",
      "source": [
        "#### Vamos treinar outro modelo com essas 9 variáveis (além das 5 combinações anteriores)"
      ],
      "metadata": {
        "id": "cITuxDWQ6EJR"
      }
    },
    {
      "cell_type": "code",
      "source": [
        "top_variables = ['thalachh', 'oldpeak', 'cp', 'exng', 'caa', 'thall', 'chol', 'slp', 'sex']\n",
        "X = Heart[top_variables]\n",
        "y = Heart['output']\n",
        "\n",
        "Heart['cp_x_exng'] = Heart['cp'] * Heart['exng']\n",
        "Heart['thalachh_x_exng'] = Heart['thalachh'] * Heart['exng']\n",
        "Heart['thalachh_x_oldpeak'] = Heart['thalachh'] * Heart['oldpeak']\n",
        "Heart['thalachh_x_cp'] = Heart['thalachh'] * Heart['cp']\n",
        "Heart['oldpeak_x_exng'] = Heart['oldpeak'] * Heart['exng']\n",
        "\n",
        "X = pd.concat([X, Heart[['cp_x_exng', 'thalachh_x_exng', 'thalachh_x_oldpeak',\n",
        "                          'thalachh_x_cp', 'oldpeak_x_exng']]], axis=1)\n",
        "\n",
        "X_train, X_test, y_train, y_test = train_test_split(X, y, test_size=0.2, random_state=42)\n",
        "\n",
        "scaler = StandardScaler()\n",
        "X_train = scaler.fit_transform(X_train)\n",
        "X_test = scaler.transform(X_test)\n",
        "\n",
        "model = LogisticRegression()\n",
        "model.fit(X_train, y_train)\n",
        "\n",
        "y_pred_proba = model.predict_proba(X_test)[:, 1]\n",
        "\n",
        "fpr, tpr, thresholds = roc_curve(y_test, y_pred_proba)\n",
        "roc_auc = auc(fpr, tpr)\n",
        "\n",
        "y_pred = (y_pred_proba > best_threshold_all).astype(int)\n",
        "\n",
        "accuracy = accuracy_score(y_test, y_pred)\n",
        "precision = precision_score(y_test, y_pred)\n",
        "recall = recall_score(y_test, y_pred)\n",
        "f1 = f1_score(y_test, y_pred)\n",
        "\n",
        "\n",
        "ROC_Final = roc_curve(y_test, y_pred_proba)\n",
        "fpr,tpr,_ = ROC_Final\n",
        "plt.figure()\n",
        "lw = 2\n",
        "plt.plot(fpr, tpr, color='darkorange',\n",
        "         lw=lw, label='Curva ROC (area = %0.2f)' % roc_auc)\n",
        "plt.plot([0, 1], [0, 1], color='navy', lw=lw, linestyle='--')\n",
        "plt.xlim([0.0, 1.0])\n",
        "plt.ylim([0.0, 1.05])\n",
        "plt.xlabel('Taxa de Falsos Positivos')\n",
        "plt.ylabel('Taxa de Verdadeiros Positivos')\n",
        "plt.title('Curva ROC para Ataques Cardíacos')\n",
        "plt.legend(loc=\"lower right\")\n",
        "plt.show()\n",
        "print()\n",
        "print()\n",
        "cm = confusion_matrix(y_test, y_pred)\n",
        "plt.figure(figsize=(8, 6))\n",
        "sns.heatmap(cm, annot=True, fmt='d', cmap='Blues', cbar=False,\n",
        "            xticklabels=['Ataque Cardíaco', 'Sem Ataque Cardíaco'],\n",
        "            yticklabels=['Ataque Cardíaco', 'Sem Ataque Cardíaco'])\n",
        "plt.xlabel('Predição')\n",
        "plt.ylabel('Valor Real')\n",
        "plt.title('Matriz de Confusão')\n",
        "plt.show()\n",
        "\n",
        "print()\n",
        "print(f\"Acurácia: {accuracy:.2f}\")\n",
        "print(f\"Precisão: {precision:.2f}\")\n",
        "print(f\"Recall: {recall:.2f}\")\n",
        "print(f\"F1-Score: {f1:.2f}\")\n",
        "\n",
        "\n"
      ],
      "metadata": {
        "colab": {
          "base_uri": "https://localhost:8080/",
          "height": 1000
        },
        "id": "naqA1AA65q7I",
        "outputId": "7749833c-162c-4144-dad3-c283c58e560b"
      },
      "execution_count": 64,
      "outputs": [
        {
          "output_type": "display_data",
          "data": {
            "text/plain": [
              "<Figure size 640x480 with 1 Axes>"
            ],
            "image/png": "[encoded data removed]"
          },
          "metadata": {}
        },
        {
          "output_type": "stream",
          "name": "stdout",
          "text": [
            "\n",
            "\n"
          ]
        },
        {
          "output_type": "display_data",
          "data": {
            "text/plain": [
              "<Figure size 800x600 with 1 Axes>"
            ],
            "image/png": "[encoded data removed]"
          },
          "metadata": {}
        },
        {
          "output_type": "stream",
          "name": "stdout",
          "text": [
            "\n",
            "Acurácia: 0.89\n",
            "Precisão: 0.90\n",
            "Recall: 0.88\n",
            "F1-Score: 0.89\n"
          ]
        }
      ]
    },
    {
      "cell_type": "code",
      "source": [
        "import pickle\n",
        "\n",
        "filename = 'best_model.sav'\n",
        "pickle.dump(best_model, open(filename, 'wb'))\n"
      ],
      "metadata": {
        "id": "QMENKFbEQ1Db"
      },
      "execution_count": 65,
      "outputs": []
    }
  ]
}